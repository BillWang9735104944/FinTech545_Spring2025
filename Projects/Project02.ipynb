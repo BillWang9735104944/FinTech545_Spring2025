{
 "cells": [
  {
   "cell_type": "markdown",
   "id": "9293f42b-1d8b-4eea-b2d0-86eaeffd993c",
   "metadata": {},
   "source": [
    "Question 1A:"
   ]
  },
  {
   "cell_type": "code",
   "execution_count": 63,
   "id": "a4a242ae-0db6-4ae1-9256-74d6246314b0",
   "metadata": {},
   "outputs": [
    {
     "name": "stdout",
     "output_type": "stream",
     "text": [
      "Last 5 rows of Arithmetic Returns:\n",
      "          SPY      AAPL      EQIX\n",
      "499 -0.011492 -0.014678 -0.006966\n",
      "500 -0.012377 -0.014699 -0.008064\n",
      "501 -0.004603 -0.008493  0.006512\n",
      "502 -0.003422 -0.027671  0.000497\n",
      "503  0.011538 -0.003445  0.015745\n",
      "Standard Deviation of Arithmetic Returns:\n",
      "SPY     0.008077\n",
      "AAPL    0.013483\n",
      "EQIX    0.015361\n",
      "dtype: float64\n",
      "Total Arithmetic Standard Deviation:\n",
      "0.03692020042548768\n"
     ]
    }
   ],
   "source": [
    "import pandas as pd\n",
    "import numpy as np\n",
    "\n",
    "\n",
    "file_path = \"DailyPrices.csv\"\n",
    "df = pd.read_csv(file_path)\n",
    "df_selected = df[['SPY', 'AAPL', 'EQIX']]\n",
    "\n",
    "\n",
    "arithmetic_returns = df_selected.pct_change().dropna()\n",
    "arithmetic_returns -= arithmetic_returns.mean()\n",
    "arithmetic_std = arithmetic_returns.std()\n",
    "\n",
    "\n",
    "print(\"Last 5 rows of Arithmetic Returns:\")\n",
    "print(arithmetic_returns.tail())\n",
    "print(\"Standard Deviation of Arithmetic Returns:\")\n",
    "print(arithmetic_std)\n",
    "arithmetic_total_std = arithmetic_std.sum()\n",
    "print(\"Total Arithmetic Standard Deviation:\")\n",
    "print(arithmetic_total_std)"
   ]
  },
  {
   "cell_type": "markdown",
   "id": "24491d4f-506d-40b8-b6f6-e25289b62390",
   "metadata": {},
   "source": [
    "Question 1B:"
   ]
  },
  {
   "cell_type": "code",
   "execution_count": 64,
   "id": "671223b2-7ce5-460b-97e5-ec0a0525950d",
   "metadata": {},
   "outputs": [
    {
     "name": "stdout",
     "output_type": "stream",
     "text": [
      "\n",
      "Last 5 rows of Log Returns:\n",
      "          SPY      AAPL      EQIX\n",
      "499 -0.011515 -0.014675 -0.006867\n",
      "500 -0.012410 -0.014696 -0.007972\n",
      "501 -0.004577 -0.008427  0.006602\n",
      "502 -0.003392 -0.027930  0.000613\n",
      "503  0.011494 -0.003356  0.015725\n",
      "\n",
      "Standard Deviation of Log Returns:\n",
      "SPY     0.008078\n",
      "AAPL    0.013446\n",
      "EQIX    0.015270\n",
      "dtype: float64\n",
      "Total Log Standard Deviation:\n",
      "0.036794890604909536\n"
     ]
    }
   ],
   "source": [
    "log_returns = np.log(df_selected / df_selected.shift(1)).dropna()\n",
    "log_returns -= log_returns.mean()\n",
    "log_std = log_returns.std()\n",
    "print(\"\\nLast 5 rows of Log Returns:\")\n",
    "print(log_returns.tail())\n",
    "print(\"\\nStandard Deviation of Log Returns:\")\n",
    "print(log_std)\n",
    "log_total_std = log_std.sum()\n",
    "print(\"Total Log Standard Deviation:\")\n",
    "print(log_total_std)"
   ]
  },
  {
   "cell_type": "markdown",
   "id": "f7043d21",
   "metadata": {},
   "source": [
    "Question 2A: "
   ]
  },
  {
   "cell_type": "code",
   "execution_count": 65,
   "id": "bec32737-58f1-492c-961e-601bec2e947a",
   "metadata": {},
   "outputs": [
    {
     "name": "stdout",
     "output_type": "stream",
     "text": [
      "Portfolio Value on 1/3/2025: 251862.4969482422\n"
     ]
    }
   ],
   "source": [
    "import pandas as pd\n",
    "\n",
    "\n",
    "file_path = \"DailyPrices.csv\"\n",
    "df = pd.read_csv(file_path)\n",
    "df[\"Date\"] = pd.to_datetime(df[\"Date\"])\n",
    "target_date = pd.Timestamp(\"2025-01-03\")\n",
    "df_target = df[df[\"Date\"] == target_date]\n",
    "holdings = {'SPY': 100, 'AAPL': 200, 'EQIX': 150}\n",
    "\n",
    "spy_price = df_target[\"SPY\"].values[0]\n",
    "aapl_price = df_target[\"AAPL\"].values[0]\n",
    "eqix_price = df_target[\"EQIX\"].values[0]\n",
    "portfolio_value = (100 * spy_price) + (200 * aapl_price) + (150 * eqix_price)\n",
    "prices_latest = df_target[['SPY', 'AAPL', 'EQIX']].values.flatten()\n",
    "\n",
    "\n",
    "print(\"Portfolio Value on 1/3/2025:\", portfolio_value)"
   ]
  },
  {
   "cell_type": "markdown",
   "id": "e5ceee64",
   "metadata": {},
   "source": [
    "Question 2B: "
   ]
  },
  {
   "cell_type": "markdown",
   "id": "f8ac9e0c",
   "metadata": {},
   "source": [
    "a: "
   ]
  },
  {
   "cell_type": "code",
   "execution_count": 66,
   "id": "cbe8ee26",
   "metadata": {},
   "outputs": [
    {
     "name": "stdout",
     "output_type": "stream",
     "text": [
      "VaR (Normal Distribution with EWMA): 3886.0208201553028\n",
      "ES (Normal Distribution with EWMA): 4873.22688452894\n"
     ]
    }
   ],
   "source": [
    "import pandas as pd\n",
    "import numpy as np\n",
    "from scipy.stats import norm\n",
    "\n",
    "\n",
    "df_subset = df[['Date', 'SPY', 'AAPL', 'EQIX']].copy()\n",
    "df_subset.sort_values('Date', inplace=True)\n",
    "df_subset.set_index(\"Date\", inplace=True)\n",
    "\n",
    "\n",
    "df_ret = df_subset / df_subset.shift(1) - 1.0\n",
    "df_ret.dropna(inplace=True)\n",
    "\n",
    "\n",
    "df_ret_zm = df_ret - df_ret.mean(axis=0)\n",
    "\n",
    "\n",
    "def calculate_ewcov(returns, lambda_param):\n",
    "    ewma_cov = returns.ewm(span=(2 / (1 - lambda_param)) - 1).cov(pairwise=True).dropna()\n",
    "    return ewma_cov.iloc[-3:]  \n",
    "\n",
    "\n",
    "lambda_param = 0.97\n",
    "ew_cov_df = calculate_ewcov(df_ret_zm, lambda_param)\n",
    "ew_cov = ew_cov_df.values\n",
    "\n",
    "\n",
    "asset_vals = np.array([holdings[ticker] * prices_latest[i] for i, ticker in enumerate(holdings.keys())])\n",
    "w_dollar = asset_vals / portfolio_value\n",
    "\n",
    "\n",
    "port_var = w_dollar @ ew_cov @ w_dollar\n",
    "port_std = np.sqrt(port_var)\n",
    "\n",
    "\n",
    "alpha = 0.05\n",
    "z05 = norm.ppf(alpha)\n",
    "pdf_z05 = norm.pdf(z05)\n",
    "\n",
    "var_normal = -z05 * port_std * portfolio_value\n",
    "es_normal = port_std * (pdf_z05 / alpha) * portfolio_value\n",
    "\n",
    "print(\"VaR (Normal Distribution with EWMA):\", var_normal)\n",
    "print(\"ES (Normal Distribution with EWMA):\", es_normal)"
   ]
  },
  {
   "cell_type": "markdown",
   "id": "7705ca77",
   "metadata": {},
   "source": [
    "b: "
   ]
  },
  {
   "cell_type": "code",
   "execution_count": 67,
   "id": "c36115bb",
   "metadata": {},
   "outputs": [
    {
     "name": "stdout",
     "output_type": "stream",
     "text": [
      "VaR (T-Copula): 4390.50178064816\n",
      "ES (T-Copula): 6139.692091019668\n"
     ]
    }
   ],
   "source": [
    "import numpy as np\n",
    "import pandas as pd\n",
    "import scipy.stats as st\n",
    "\n",
    "\n",
    "file_path = \"DailyPrices.csv\" \n",
    "df = pd.read_csv(file_path, parse_dates=[\"Date\"])\n",
    "\n",
    "\n",
    "def method_2b_t_copula(df_prices, selected_stocks, shares_dict, alpha=0.05):\n",
    "    df_prices.sort_values(\"Date\", inplace=True, ignore_index=True)\n",
    "    df_ret = df_prices.copy()\n",
    "\n",
    "\n",
    "    for stk in selected_stocks:\n",
    "        df_ret[stk] = df_ret[stk].pct_change()\n",
    "    df_ret.dropna(inplace=True)\n",
    "\n",
    "\n",
    "    arithmetic_return_remove_mean = {stk: df_ret[stk].values - np.mean(df_ret[stk].values) for stk in selected_stocks}\n",
    "\n",
    "\n",
    "    t_params = {}\n",
    "    for stk in selected_stocks:\n",
    "        data = arithmetic_return_remove_mean[stk]\n",
    "        df_, loc_, scale_ = st.t.fit(data, method=\"MLE\")\n",
    "        t_params[stk] = (df_, loc_, scale_)\n",
    "\n",
    "\n",
    "    U = pd.DataFrame({stk: st.t.cdf(arithmetic_return_remove_mean[stk], *t_params[stk]) for stk in selected_stocks})\n",
    "\n",
    "\n",
    "    Z = U.apply(lambda x: st.norm.ppf(x))\n",
    "\n",
    "\n",
    "    R_spearman = Z.corr(method='spearman')\n",
    "\n",
    "    n_samples = 10000\n",
    "    np.random.seed(42)\n",
    "    copula_sim = st.multivariate_normal.rvs(\n",
    "        mean=np.zeros(len(selected_stocks)),\n",
    "        cov=R_spearman,\n",
    "        size=n_samples\n",
    "    )\n",
    "\n",
    "\n",
    "    sim_returns_t = np.zeros_like(copula_sim)\n",
    "    for i, stk in enumerate(selected_stocks):\n",
    "        df_, loc_, scale_ = t_params[stk]\n",
    "        sim_u = st.norm.cdf(copula_sim[:, i])\n",
    "        sim_returns_t[:, i] = st.t.ppf(sim_u, df_, loc_, scale_)\n",
    "\n",
    "\n",
    "    latest_row = df_prices.iloc[-1]\n",
    "    sim_pnl_t = np.zeros(n_samples)\n",
    "    for i, stk in enumerate(selected_stocks):\n",
    "        n_shares = shares_dict[stk]\n",
    "        price_now = latest_row[stk]\n",
    "        sim_pnl_t += n_shares * price_now * sim_returns_t[:, i]\n",
    "\n",
    "\n",
    "    var_5 = np.percentile(sim_pnl_t, alpha * 100)\n",
    "    tail_mask = (sim_pnl_t <= var_5)\n",
    "    es_5 = sim_pnl_t[tail_mask].mean() if np.any(tail_mask) else var_5\n",
    "\n",
    "\n",
    "    return var_5, es_5, sim_pnl_t\n",
    "\n",
    "\n",
    "var_5, es_5, sim_pnl_t = method_2b_t_copula(\n",
    "    df, \n",
    "    [\"SPY\", \"AAPL\", \"EQIX\"], \n",
    "    {\"SPY\": 100, \"AAPL\": 200, \"EQIX\": 150}, \n",
    "    alpha=0.05\n",
    ")\n",
    "\n",
    "print(\"VaR (T-Copula):\", -var_5)\n",
    "print(\"ES (T-Copula):\", -es_5)"
   ]
  },
  {
   "cell_type": "markdown",
   "id": "f7803cbf",
   "metadata": {},
   "source": [
    "c: "
   ]
  },
  {
   "cell_type": "code",
   "execution_count": 68,
   "id": "86ae86f9",
   "metadata": {},
   "outputs": [
    {
     "name": "stdout",
     "output_type": "stream",
     "text": [
      "VaR (Historical Simulation):  4575.0340603897785\n",
      "ES (Historical Simulation):  6059.3870757686855\n"
     ]
    }
   ],
   "source": [
    "import pandas as pd\n",
    "import numpy as np\n",
    "from scipy.stats import norm\n",
    "\n",
    "\n",
    "df_prices = pd.read_csv(\"DailyPrices.csv\", parse_dates=[\"Date\"])\n",
    "df_prices.sort_values(\"Date\", inplace=True)\n",
    "\n",
    "\n",
    "holdings = {\n",
    "    \"SPY\":  100.0,\n",
    "    \"AAPL\": 200.0,\n",
    "    \"EQIX\": 150.0\n",
    "}\n",
    "\n",
    "today_str = \"2025-01-03\"\n",
    "row_today = df_prices.loc[df_prices[\"Date\"] == today_str]\n",
    "\n",
    "\n",
    "prices_today = {}\n",
    "for ticker in holdings.keys():\n",
    "    prices_today[ticker] = float(row_today[ticker].values[0])\n",
    "\n",
    "\n",
    "alpha = 0.05\n",
    "tickers_used = list(holdings.keys())\n",
    "\n",
    "\n",
    "pl_hist = df_ret_zm.values @ np.array([\n",
    "    holdings[t] * prices_today[t] for t in tickers_used\n",
    "])\n",
    "\n",
    "\n",
    "var_hist = np.percentile(pl_hist, alpha * 100)  \n",
    "es_hist = pl_hist[pl_hist <= var_hist].mean() if np.any(pl_hist <= var_hist) else var_hist\n",
    "\n",
    "\n",
    "print(\"VaR (Historical Simulation): \",-var_hist)\n",
    "print(\"ES (Historical Simulation): \",-es_hist)"
   ]
  },
  {
   "cell_type": "markdown",
   "id": "5b24b3c1",
   "metadata": {},
   "source": [
    "Problem 3A: "
   ]
  },
  {
   "cell_type": "code",
   "execution_count": 69,
   "id": "3042b63d",
   "metadata": {},
   "outputs": [
    {
     "name": "stdout",
     "output_type": "stream",
     "text": [
      "Implied Volatility is 0.33508039247879023\n"
     ]
    }
   ],
   "source": [
    "import numpy as np\n",
    "from scipy.stats import norm\n",
    "from scipy.optimize import brentq\n",
    "\n",
    "\n",
    "S = 31  \n",
    "X = 30  \n",
    "T = 0.25  \n",
    "r = 0.10  \n",
    "C_market = 3.00  \n",
    "\n",
    "\n",
    "def black_scholes_call(S, X, T, r, sigma):\n",
    "    d1 = (np.log(S / X) + (r + 0.5 * sigma**2) * T) / (sigma * np.sqrt(T))\n",
    "    d2 = d1 - sigma * np.sqrt(T)\n",
    "    call_price = S * norm.cdf(d1) - X * np.exp(-r * T) * norm.cdf(d2)\n",
    "    return call_price\n",
    "\n",
    "\n",
    "def implied_volatility(C_market, S, X, T, r):\n",
    "    try:\n",
    "        return brentq(lambda sigma: black_scholes_call(S, X, T, r, sigma) - C_market, 0.01, 2.0)\n",
    "    except ValueError:\n",
    "        return None\n",
    "\n",
    "\n",
    "sigma_iv = implied_volatility(C_market, S, X, T, r)\n",
    "\n",
    "\n",
    "print(f\"Implied Volatility is {sigma_iv}\")"
   ]
  },
  {
   "cell_type": "markdown",
   "id": "af081c20",
   "metadata": {},
   "source": [
    "Question 3B: "
   ]
  },
  {
   "cell_type": "code",
   "execution_count": 70,
   "id": "3cf70edd",
   "metadata": {},
   "outputs": [
    {
     "name": "stdout",
     "output_type": "stream",
     "text": [
      "Delta value: 0.6659296527386922\n",
      "Vega value: 5.640705439230116\n",
      "Theta value: -5.544561508358894\n"
     ]
    },
    {
     "data": {
      "text/html": [
       "<div>\n",
       "<style scoped>\n",
       "    .dataframe tbody tr th:only-of-type {\n",
       "        vertical-align: middle;\n",
       "    }\n",
       "\n",
       "    .dataframe tbody tr th {\n",
       "        vertical-align: top;\n",
       "    }\n",
       "\n",
       "    .dataframe thead th {\n",
       "        text-align: right;\n",
       "    }\n",
       "</style>\n",
       "<table border=\"1\" class=\"dataframe\">\n",
       "  <thead>\n",
       "    <tr style=\"text-align: right;\">\n",
       "      <th></th>\n",
       "      <th>Metric</th>\n",
       "      <th>Value</th>\n",
       "    </tr>\n",
       "  </thead>\n",
       "  <tbody>\n",
       "    <tr>\n",
       "      <th>0</th>\n",
       "      <td>Original Call Price</td>\n",
       "      <td>3.000000</td>\n",
       "    </tr>\n",
       "    <tr>\n",
       "      <th>1</th>\n",
       "      <td>New Call Price (1% Vol Increase)</td>\n",
       "      <td>3.056498</td>\n",
       "    </tr>\n",
       "    <tr>\n",
       "      <th>2</th>\n",
       "      <td>Actual Change in Call Price</td>\n",
       "      <td>0.056498</td>\n",
       "    </tr>\n",
       "    <tr>\n",
       "      <th>3</th>\n",
       "      <td>Estimated Change (Vega Method)</td>\n",
       "      <td>0.056407</td>\n",
       "    </tr>\n",
       "    <tr>\n",
       "      <th>4</th>\n",
       "      <td>Difference</td>\n",
       "      <td>0.000091</td>\n",
       "    </tr>\n",
       "  </tbody>\n",
       "</table>\n",
       "</div>"
      ],
      "text/plain": [
       "                             Metric     Value\n",
       "0               Original Call Price  3.000000\n",
       "1  New Call Price (1% Vol Increase)  3.056498\n",
       "2       Actual Change in Call Price  0.056498\n",
       "3    Estimated Change (Vega Method)  0.056407\n",
       "4                        Difference  0.000091"
      ]
     },
     "execution_count": 70,
     "metadata": {},
     "output_type": "execute_result"
    }
   ],
   "source": [
    "if sigma_iv:\n",
    "    d1 = (np.log(S / X) + (r + 0.5 * sigma_iv**2) * T) / (sigma_iv * np.sqrt(T))\n",
    "    d2 = d1 - sigma_iv * np.sqrt(T)\n",
    "\n",
    "    delta = norm.cdf(d1)\n",
    "    vega = S * norm.pdf(d1) * np.sqrt(T)\n",
    "    theta = (- (S * norm.pdf(d1) * sigma_iv) / (2 * np.sqrt(T))) - (r * X * np.exp(-r * T) * norm.cdf(d2))\n",
    "\n",
    "    option_price_change = vega * 0.01\n",
    "\n",
    "    results = {\n",
    "        \"Implied Volatility\": sigma_iv,\n",
    "        \"Delta\": delta,\n",
    "        \"Vega\": vega,\n",
    "        \"Theta\": theta,\n",
    "        \"Option Price Change for 1% Vol Increase\": option_price_change,\n",
    "    }\n",
    "else:\n",
    "    results = {\"Error\": \"Could not find implied volatility.\"}\n",
    "    \n",
    "import pandas as pd\n",
    "df = pd.DataFrame(results, index=[0])\n",
    "df\n",
    "\n",
    "sigma_new = sigma_iv + 0.01\n",
    "\n",
    "C_new = black_scholes_call(S, X, T, r, sigma_new)\n",
    "\n",
    "delta_C_actual = C_new - C_market\n",
    "\n",
    "proof_results = pd.DataFrame({\n",
    "    \"Metric\": [\"Original Call Price\", \"New Call Price (1% Vol Increase)\", \"Actual Change in Call Price\", \"Estimated Change (Vega Method)\", \"Difference\"],\n",
    "    \"Value\": [C_market, C_new, delta_C_actual, option_price_change, delta_C_actual - option_price_change]\n",
    "})\n",
    "print(\"Delta value:\", delta)\n",
    "print(\"Vega value:\", vega)\n",
    "print(\"Theta value:\", theta)\n",
    "proof_results"
   ]
  },
  {
   "cell_type": "code",
   "execution_count": 71,
   "id": "5a4e03a2",
   "metadata": {},
   "outputs": [
    {
     "name": "stdout",
     "output_type": "stream",
     "text": [
      "C + PV(X): 32.25929736084998\n",
      "P + S: 32.25929736084998\n",
      "Difference: 0.0\n"
     ]
    }
   ],
   "source": [
    "def black_scholes_put(S, X, T, r, sigma):\n",
    "    d1 = (np.log(S / X) + (r + 0.5 * sigma ** 2) * T) / (sigma * np.sqrt(T))\n",
    "    d2 = d1 - sigma * np.sqrt(T)\n",
    "    return X * np.exp(-r * T) * norm.cdf(-d2) - S * norm.cdf(-d1)\n",
    "\n",
    "\n",
    "rhs = black_scholes_put(S, X, T, r, sigma_iv) + S\n",
    "lhs = C_market + X * np.exp(-r * T)\n",
    "difference = lhs - rhs\n",
    "print(\"C + PV(X):\", lhs)\n",
    "print(\"P + S:\", rhs)\n",
    "print(\"Difference:\", difference)"
   ]
  },
  {
   "cell_type": "markdown",
   "id": "8deb6545",
   "metadata": {},
   "source": [
    "Question 3D: "
   ]
  },
  {
   "cell_type": "code",
   "execution_count": 72,
   "id": "578a72de",
   "metadata": {},
   "outputs": [
    {
     "name": "stdout",
     "output_type": "stream",
     "text": [
      "Portfolio Info\n",
      "Stock Price       = 31.00\n",
      "Call Price        = 3.00\n",
      "Put  Price        = 1.26\n",
      "Initial Portfolio = 35.26\n"
     ]
    }
   ],
   "source": [
    "import math\n",
    "from math import log, sqrt, exp\n",
    "from scipy.stats import norm\n",
    "from scipy.optimize import brentq\n",
    "\n",
    "def call_price_bs(S, X, T, r, sigma):\n",
    "    d1 = (log(S/X) + (r + 0.5*sigma**2)*T) / (sigma*sqrt(T))\n",
    "    d2 = d1 - sigma*sqrt(T)\n",
    "    # b = r => e^{(b-r)T} = e^0 = 1\n",
    "    C = S * norm.cdf(d1) - X * exp(-r*T) * norm.cdf(d2)\n",
    "    return C\n",
    "\n",
    "def put_price_bs(S, X, T, r, sigma):\n",
    "    d1 = (log(S/X) + (r + 0.5*sigma**2)*T) / (sigma*sqrt(T))\n",
    "    d2 = d1 - sigma*sqrt(T)\n",
    "    P = X * exp(-r*T) * norm.cdf(-d2) - S * norm.cdf(-d1)\n",
    "    return P\n",
    "\n",
    "def implied_vol_bs(S, X, T, r, market_price):\n",
    "    def objective(sigma):\n",
    "        return call_price_bs(S, X, T, r, sigma) - market_price\n",
    "    vol_lower, vol_upper = 1e-6, 5.0\n",
    "    return brentq(objective, vol_lower, vol_upper)\n",
    "\n",
    "def call_delta(S, X, T, r, sigma):\n",
    "    d1 = (log(S/X) + (r + 0.5*sigma**2)*T) / (sigma*sqrt(T))\n",
    "    return norm.cdf(d1)\n",
    "\n",
    "def put_delta(S, X, T, r, sigma):\n",
    "    d1 = (np.log(S/X) + (r + 0.5 * sigma**2) * T) / (sigma * np.sqrt(T))\n",
    "    return norm.cdf(d1) - 1\n",
    "\n",
    "def call_vega(S, X, T, r, sigma):\n",
    "    d1 = (log(S/X) + (r + 0.5*sigma**2)*T) / (sigma*sqrt(T))\n",
    "    return S * norm.pdf(d1) * sqrt(T)\n",
    "\n",
    "def call_theta(S, X, T, r, sigma):\n",
    "    d1 = (log(S/X) + (r + 0.5*sigma**2)*T) / (sigma*sqrt(T))\n",
    "    d2 = d1 - sigma*sqrt(T)\n",
    "    term1 = - (S * norm.pdf(d1) * sigma) / (2.0 * sqrt(T))\n",
    "    term2 = - r * X * exp(-r*T) * norm.cdf(d2)\n",
    "    return term1 + term2\n",
    "\n",
    "def put_theta(S, X, T, r, sigma):\n",
    "    d1 = (np.log(S/X) + (r + 0.5 * sigma**2) * T) / (sigma * np.sqrt(T))\n",
    "    d2 = d1 - sigma * np.sqrt(T)\n",
    "    term1 = - (S * norm.pdf(d1) * sigma) / (2 * np.sqrt(T))\n",
    "    term2 = r * X * np.exp(-r * T) * norm.cdf(-d2)\n",
    "    return term1 + term2\n",
    "\n",
    "\n",
    "S = 31.0      \n",
    "X = 30.0      \n",
    "r = 0.10    \n",
    "T = 0.25     \n",
    "call_market_price = 3.0 \n",
    "trading_days_per_year = 255\n",
    "holding_days = 20  \n",
    "alpha = 0.05      \n",
    "stock_annual_vol = 0.25 \n",
    "\n",
    "\n",
    "call_ini = call_price_bs(S, X, T, r, sigma_iv)\n",
    "put_ini  = put_price_bs(S, X, T, r, sigma_iv)\n",
    "portfolio_ini = call_ini + put_ini + S\n",
    "\n",
    "\n",
    "print(\"Portfolio Info\")\n",
    "print(f\"Stock Price       = {S:.2f}\")\n",
    "print(f\"Call Price        = {call_ini:.2f}\")\n",
    "print(f\"Put  Price        = {put_ini:.2f}\")\n",
    "print(f\"Initial Portfolio = {portfolio_ini:.2f}\")"
   ]
  },
  {
   "cell_type": "code",
   "execution_count": 73,
   "id": "afa7359d",
   "metadata": {},
   "outputs": [
    {
     "name": "stdout",
     "output_type": "stream",
     "text": [
      "Delta-Normal Approximation\n",
      "Portfolio Delta = 1.3319\n",
      "Portfolio Theta = -8.1632\n",
      "Mean of 20d PnL = -0.6403\n",
      "Std of 20d PnL  = 2.8907\n",
      "VaR  (95%)      = 5.3951\n",
      "ES   (95%)      = -5.3225\n"
     ]
    }
   ],
   "source": [
    "sigma_daily = stock_annual_vol / math.sqrt(trading_days_per_year)\n",
    "sigma_20days = sigma_daily * math.sqrt(holding_days)\n",
    "\n",
    "\n",
    "call_market_price = 3.0  \n",
    "sigma_iv = implied_vol_bs(S, X, T, r, call_market_price)\n",
    "\n",
    "\n",
    "\n",
    "delta_call = call_delta(S, X, T, r, sigma_iv)\n",
    "delta_put  = put_delta(S, X, T, r, sigma_iv)\n",
    "delta_stock= 1.0\n",
    "portfolio_delta = delta_call + delta_put + delta_stock\n",
    "\n",
    "\n",
    "theta_call = call_theta(S, X, T, r, sigma_iv)\n",
    "theta_put = put_theta(S, X, T, r, sigma_iv)  \n",
    "portfolio_theta = theta_call + theta_put  \n",
    "\n",
    "\n",
    "dt = holding_days / trading_days_per_year\n",
    "mean_pnl = portfolio_theta * dt  \n",
    "\n",
    "\n",
    "std_dev_pnl = abs(portfolio_delta) * S * sigma_20days \n",
    "\n",
    "\n",
    "z_alpha = norm.ppf(alpha)\n",
    "var_delta_normal = -(mean_pnl + z_alpha * std_dev_pnl)\n",
    "\n",
    "\n",
    "phi_z = norm.pdf(z_alpha)\n",
    "es_delta_normal = - (std_dev_pnl * phi_z / alpha + mean_pnl)\n",
    "\n",
    "print(\"Delta-Normal Approximation\")\n",
    "print(f\"Portfolio Delta = {portfolio_delta:.4f}\")\n",
    "print(f\"Portfolio Theta = {portfolio_theta:.4f}\")\n",
    "print(f\"Mean of 20d PnL = {mean_pnl:.4f}\")\n",
    "print(f\"Std of 20d PnL  = {std_dev_pnl:.4f}\")\n",
    "print(f\"VaR  (95%)      = {var_delta_normal:.4f}\")\n",
    "print(f\"ES   (95%)      = {es_delta_normal:.4f}\")"
   ]
  },
  {
   "cell_type": "code",
   "execution_count": 74,
   "id": "16f7e4cc",
   "metadata": {},
   "outputs": [
    {
     "name": "stdout",
     "output_type": "stream",
     "text": [
      "Monte Carlo Simulation\n",
      "Number of sims = 100000\n",
      "Mean of PnL    = -0.2166\n",
      "VaR  (95%)     = 4.1277\n",
      "ES   (95%)     = 4.5761\n"
     ]
    }
   ],
   "source": [
    "n_sims = 100000\n",
    "np.random.seed(42)\n",
    "\n",
    "mean_return = 0  \n",
    "random_returns = np.random.normal(mean_return, sigma_20days, n_sims)\n",
    "simulated_stock_prices = S * np.exp(random_returns)\n",
    "\n",
    "time_to_maturity_updated = T - (holding_days / trading_days_per_year)\n",
    "call_option_values_simulated = [black_scholes_call(s_i, X, time_to_maturity_updated, r, sigma_iv) for s_i in simulated_stock_prices]\n",
    "put_option_values_simulated = [black_scholes_put(s_i, X, time_to_maturity_updated, r, sigma_iv)  for s_i in simulated_stock_prices]\n",
    "\n",
    "portfolio_20days = np.array(call_option_values_simulated) + np.array(put_option_values_simulated) + simulated_stock_prices\n",
    "portfolio_0 = portfolio_ini\n",
    "profit_and_loss = portfolio_20days - portfolio_0\n",
    "\n",
    "pnl_sorted = np.sort(profit_and_loss)\n",
    "var_index = int(alpha * n_sims)\n",
    "var_mc = -pnl_sorted[var_index]\n",
    "es_mc = -pnl_sorted[:var_index].mean()\n",
    "\n",
    "print(\"Monte Carlo Simulation\")\n",
    "print(f\"Number of sims = {n_sims}\")\n",
    "print(f\"Mean of PnL    = {profit_and_loss.mean():.4f}\")\n",
    "print(f\"VaR  (95%)     = {var_mc:.4f}\")\n",
    "print(f\"ES   (95%)     = {es_mc:.4f}\")"
   ]
  },
  {
   "cell_type": "markdown",
   "id": "742de0da",
   "metadata": {},
   "source": [
    "Question 3E:"
   ]
  },
  {
   "cell_type": "code",
   "execution_count": 78,
   "id": "1b19f69c",
   "metadata": {},
   "outputs": [
    {
     "data": {
      "image/png": "[encoded data removed]",
      "text/plain": [
       "<Figure size 1000x600 with 1 Axes>"
      ]
     },
     "metadata": {},
     "output_type": "display_data"
    }
   ],
   "source": [
    "import seaborn as sns\n",
    "import matplotlib.pyplot as plt\n",
    "\n",
    "\n",
    "S_sims = np.linspace(S * 0.8, S * 1.2, 100)  \n",
    "T_new = T - (holding_days / trading_days_per_year)\n",
    "call_value_true = np.array([black_scholes_call(s, X, T_new, r, sigma_iv) for s in S_sims])\n",
    "put_value_true = np.array([black_scholes_put(s, X, T_new, r, sigma_iv) for s in S_sims])\n",
    "portfolio_BS = call_value_true + put_value_true + S_sims \n",
    "\n",
    "call_values = np.array([black_scholes_call(s_i, X, T_new, r, sigma_iv) for s_i in S_sims])\n",
    "put_values = np.array([black_scholes_put(s_i, X, T_new, r, sigma_iv) for s_i in S_sims])\n",
    "portfolio_mc = call_values + put_values + S_sims\n",
    "\n",
    "\n",
    "portfolio_delta_normal = portfolio_0 + portfolio_delta * (S_sims - S)\n",
    "\n",
    "\n",
    "plt.figure(figsize=(10, 6))\n",
    "sns.lineplot(x=S_sims, y=portfolio_mc, label=\"Monte Carlo Portfolio Value\", color=\"blue\")\n",
    "sns.lineplot(x=S_sims, y=portfolio_delta_normal, label=\"Delta-Normal Approximation\", color=\"red\")\n",
    "sns.lineplot(x=S_sims, y=portfolio_BS, label=\"Portfolio Value(BS model)\", color=\"green\", linestyle=\"dashed\")\n",
    "plt.axvline(S, color=\"black\", linestyle=\"dotted\", label=\"Current Stock Price\")\n",
    "plt.xlabel(\"Stock Price\")\n",
    "plt.ylabel(\"Portfolio Value\")\n",
    "plt.title(\"Portfolio Value vs Stock Price: Monte Carlo vs Delta-Normal\")\n",
    "plt.legend()\n",
    "plt.grid(True)\n",
    "plt.show()"
   ]
  },
  {
   "cell_type": "code",
   "execution_count": null,
   "id": "0191c9e7",
   "metadata": {},
   "outputs": [],
   "source": []
  }
 ],
 "metadata": {
  "kernelspec": {
   "display_name": "venv",
   "language": "python",
   "name": "python3"
  },
  "language_info": {
   "codemirror_mode": {
    "name": "ipython",
    "version": 3
   },
   "file_extension": ".py",
   "mimetype": "text/x-python",
   "name": "python",
   "nbconvert_exporter": "python",
   "pygments_lexer": "ipython3",
   "version": "3.12.3"
  }
 },
 "nbformat": 4,
 "nbformat_minor": 5
}
