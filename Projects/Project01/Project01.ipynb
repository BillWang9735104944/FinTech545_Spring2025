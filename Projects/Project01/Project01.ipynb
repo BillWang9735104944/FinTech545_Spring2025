{
 "cells": [
  {
   "cell_type": "markdown",
   "metadata": {},
   "source": [
    "<span style=\"color:black\">Question  1A:"
   ]
  },
  {
   "cell_type": "code",
   "execution_count": 6,
   "metadata": {},
   "outputs": [
    {
     "name": "stdout",
     "output_type": "stream",
     "text": [
      "Mean: 0.05019795790476916\n",
      "Variance: 0.010332476407479588\n",
      "Skewness: 0.1204447119194402\n",
      "Kurtosis: 0.2229270674503816\n"
     ]
    }
   ],
   "source": [
    "import pandas as pd\n",
    "from scipy.stats import kurtosis, skew\n",
    "\n",
    "df = pd.read_csv(\"problem1.csv\")\n",
    "data = df[\"X\"]\n",
    "mean = data.mean()\n",
    "variance = data.var()\n",
    "skewness = skew(data)\n",
    "kurt = kurtosis(data)\n",
    "print(f\"Mean: {mean}\")\n",
    "print(f\"Variance: {variance}\")\n",
    "print(f\"Skewness: {skewness}\")\n",
    "print(f\"Kurtosis: {kurt}\")"
   ]
  },
  {
   "cell_type": "markdown",
   "metadata": {},
   "source": [
    "<span style=\"color:black\">Question 1B:"
   ]
  },
  {
   "cell_type": "markdown",
   "metadata": {},
   "source": [
    "<span style=\"font-size:15px;color:black\">It depends on whether the distribution has a big population. If the sample size is bigger than 30, I will choose normal distribution, and if the sample size is smaller than 30, I will choose T-distribution. It also depends on whether I know the population standard deviation. If it is known, there is high chance that I choose normal distribution. Still, if the data is known to be skewed or has extreme outliers, I would choose T-distribution over normal distribution since a dataset with more symmetricity percularities is more fit for normal distribution. Normal distribution would be forced to be used somehow under the condition that normality is assumed like linear regression. Under this situation, there is a slight skewness, so I decide to choose T-distribution. "
   ]
  },
  {
   "cell_type": "markdown",
   "metadata": {},
   "source": [
    "Question 1C:"
   ]
  },
  {
   "cell_type": "code",
   "execution_count": 9,
   "metadata": {},
   "outputs": [
    {
     "name": "stdout",
     "output_type": "stream",
     "text": [
      "T Distribution Fit: df = 28.71016692613074, loc = 0.04986675416872735, scale = 0.09800128766123102\n",
      "Normal Distribution Fit: Mean = 0.05019795790476916, Std = 0.10159795239606018\n",
      "Normal K-S Test: KstestResult(statistic=np.float64(0.01275165971875869), pvalue=np.float64(0.9962422791034079), statistic_location=np.float64(0.1931202657983203), statistic_sign=np.int8(1))\n",
      "T Distribution K-S Test: KstestResult(statistic=np.float64(0.012697894723120384), pvalue=np.float64(0.996453485092733), statistic_location=np.float64(-0.0377745593740776), statistic_sign=np.int8(1))\n"
     ]
    }
   ],
   "source": [
    "from scipy.stats import norm\n",
    "from scipy.stats import t\n",
    "from scipy.stats import kstest\n",
    "\n",
    "\n",
    "df_t, loc, scale = t.fit(data)\n",
    "print(f\"T Distribution Fit: df = {df_t}, loc = {loc}, scale = {scale}\")\n",
    "mu, sigma = norm.fit(data)\n",
    "print(f\"Normal Distribution Fit: Mean = {mu}, Std = {sigma}\")\n",
    "\n",
    "ks_normal = kstest(data, 'norm', args=(mu, sigma))\n",
    "ks_t = kstest(data, 't', args=(df_t, loc, scale))\n",
    "print(f\"Normal K-S Test: {ks_normal}\")\n",
    "print(f\"T Distribution K-S Test: {ks_t}\")\n"
   ]
  },
  {
   "cell_type": "markdown",
   "metadata": {},
   "source": [
    "<span style=\"font-size:15px;color:black\">Based on the test result provided above, both T-distribution and normal distribution has high p-values with 0.99624 for Normal distribution and 0.99645 for T-distribution. For practical application, both could be implemented with confidency. T-distribution has a slightly lower statistic data then normal distribution, so T-distribution is actually a little bit better than normal distribution under this dataset. Therefore, my choice matches with data. "
   ]
  },
  {
   "cell_type": "markdown",
   "metadata": {},
   "source": []
  }
 ],
 "metadata": {
  "kernelspec": {
   "display_name": "venv",
   "language": "python",
   "name": "python3"
  },
  "language_info": {
   "codemirror_mode": {
    "name": "ipython",
    "version": 3
   },
   "file_extension": ".py",
   "mimetype": "text/x-python",
   "name": "python",
   "nbconvert_exporter": "python",
   "pygments_lexer": "ipython3",
   "version": "3.12.3"
  }
 },
 "nbformat": 4,
 "nbformat_minor": 2
}
